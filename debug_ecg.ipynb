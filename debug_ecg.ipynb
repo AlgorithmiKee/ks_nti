{
 "cells": [
  {
   "cell_type": "code",
   "execution_count": 1,
   "metadata": {},
   "outputs": [
    {
     "name": "stdout",
     "output_type": "stream",
     "text": [
      "Running on the CPU\n"
     ]
    }
   ],
   "source": [
    "import time\n",
    "from Linear_sysmdl import System_Model_nti\n",
    "from RTS_Smoother import RTS_Smoother_nti\n",
    "from Linear_KF import KalmanFilter_nti\n",
    "from RTS_NUV import RTS_UV_nti\n",
    "import torch\n",
    "from local_fit import LocalFitter, ExpWin_DS, moving_avg, LCR, merge\n",
    "import matplotlib.pyplot as plt\n",
    "import torch.nn as nn\n",
    "import pandas as pd\n",
    "from LFKS import smooth_ecg_LFKS\n",
    "from torch.distributions.normal import Normal\n",
    "from gen_ecg import range_prec_r_dB\n",
    "from ecg_tester import *\n"
   ]
  },
  {
   "cell_type": "markdown",
   "metadata": {},
   "source": [
    "# \"ECG\" Signal\n",
    "A ECG signal consists of 7 segments inside a cylce:\n",
    "1. P wave (round)\n",
    "2. PR segement\n",
    "3. QRS complex:\n",
    "    - negative Q wave\n",
    "    - positive R wave\n",
    "    - negative S wave\n",
    "4. ST segement\n",
    "5. T wave (round)"
   ]
  },
  {
   "cell_type": "markdown",
   "metadata": {},
   "source": [
    "## Generate ECG"
   ]
  },
  {
   "cell_type": "code",
   "execution_count": 2,
   "metadata": {},
   "outputs": [],
   "source": [
    "# number of traj\n",
    "NB = 10\n",
    "\n",
    "# load data to be filtered\n",
    "ppath = 'Sim_ecg/' # parent path\n",
    "traj_path = ppath + 'traj/' # traj path\n",
    "Y_ALL = torch.load(traj_path+'ECG_noisy.pt')[4, 0:NB, :]\n",
    "ecg_gt = torch.load(traj_path+'ECG_gt.pt')\n",
    "\n",
    "T_ecg = ecg_gt.size(0)\n",
    "\n",
    "# optimal window parameter\n",
    "gamma_optm = [0.85, 0.7, 0.45, 0.2, 0.1]\n",
    "\n",
    "# Smooting result of pure LF\n",
    "Y_LF = torch.empty_like(Y_ALL)\n",
    "# Smooting result of pure KS\n",
    "Y_KS = torch.empty_like(Y_ALL)\n",
    "# Smooting result of LF + KS\n",
    "Y_LFKS = torch.empty_like(Y_ALL)"
   ]
  },
  {
   "cell_type": "code",
   "execution_count": 3,
   "metadata": {},
   "outputs": [
    {
     "data": {
      "text/plain": [
       "torch.Size([10, 183])"
      ]
     },
     "execution_count": 3,
     "metadata": {},
     "output_type": "execute_result"
    }
   ],
   "source": [
    "Y_LF.size()"
   ]
  },
  {
   "cell_type": "markdown",
   "metadata": {},
   "source": [
    "KS"
   ]
  },
  {
   "cell_type": "code",
   "execution_count": 4,
   "metadata": {},
   "outputs": [
    {
     "name": "stdout",
     "output_type": "stream",
     "text": [
      "KS on ECG - MSE:  tensor(-27.6104)  [dB]\n",
      "Interence Time: 13.436274766921997  s\n"
     ]
    }
   ],
   "source": [
    "MSE_KS, std_MSE_KS, Y_KS = test_KS(NB, Y_ALL, ecg_gt, itr_r=60, itr_q=80, r_init=1.0, q_init=1.0, win_q=2)"
   ]
  },
  {
   "cell_type": "code",
   "execution_count": 5,
   "metadata": {},
   "outputs": [],
   "source": [
    "loss_fun = nn.MSELoss(reduction='mean')\n",
    "MSEs_NF = torch.empty(size=[NB])\n",
    "for j in range(0, NB):\n",
    "    MSEs_NF[j] = loss_fun(Y_ALL[j,:], ecg_gt)"
   ]
  },
  {
   "cell_type": "code",
   "execution_count": 6,
   "metadata": {},
   "outputs": [
    {
     "data": {
      "text/plain": [
       "tensor([0.0009, 0.0010, 0.0008, 0.0011, 0.0011, 0.0011, 0.0010, 0.0009, 0.0010,\n",
       "        0.0010])"
      ]
     },
     "execution_count": 6,
     "metadata": {},
     "output_type": "execute_result"
    }
   ],
   "source": [
    "MSEs_NF"
   ]
  },
  {
   "cell_type": "code",
   "execution_count": 7,
   "metadata": {},
   "outputs": [
    {
     "data": {
      "text/plain": [
       "tensor([-30.3629, -30.0648, -30.7759, -29.5986, -29.4344, -29.4455, -29.8186,\n",
       "        -30.3311, -29.8948, -30.1518])"
      ]
     },
     "execution_count": 7,
     "metadata": {},
     "output_type": "execute_result"
    }
   ],
   "source": [
    "10*torch.log10(MSEs_NF)"
   ]
  }
 ],
 "metadata": {
  "interpreter": {
   "hash": "6542be600deb830c4bce82ce8a12106e8b76a038cf3920d451d7fa959f745ece"
  },
  "kernelspec": {
   "display_name": "Python 3.8.12 ('pytorch_m1')",
   "language": "python",
   "name": "python3"
  },
  "language_info": {
   "codemirror_mode": {
    "name": "ipython",
    "version": 3
   },
   "file_extension": ".py",
   "mimetype": "text/x-python",
   "name": "python",
   "nbconvert_exporter": "python",
   "pygments_lexer": "ipython3",
   "version": "3.8.13"
  },
  "orig_nbformat": 4
 },
 "nbformat": 4,
 "nbformat_minor": 2
}
