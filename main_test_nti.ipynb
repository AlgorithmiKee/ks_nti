{
 "cells": [
  {
   "cell_type": "code",
   "execution_count": 1,
   "metadata": {},
   "outputs": [
    {
     "name": "stdout",
     "output_type": "stream",
     "text": [
      "Running on the CPU\n"
     ]
    }
   ],
   "source": [
    "from Linear_KF import KalmanFilter_nti, KalmanFilter_NE\n",
    "from RTS_Smoother import RTS_Smoother_nti, RTS_Smoother_NE\n",
    "import torch\n",
    "from Linear_sysmdl import SystemModel, System_Model_nti, System_Model_NE\n",
    "import torch.nn as nn\n",
    "from RTS_NUV import RTS_NUV, RTS_UV_nti, RTS_Simple_NUV\n"
   ]
  },
  {
   "cell_type": "code",
   "execution_count": 2,
   "metadata": {},
   "outputs": [],
   "source": [
    "# nu = 0 dB\n",
    "# r2 = 10 dB\n",
    "idx_traj = 100\n",
    "Y = torch.load('Sim_baseline/traj/Y_obs.pt')[0, 0, idx_traj, :, :]\n",
    "X = torch.load('Sim_baseline/traj/X_gt.pt')[0, 0, idx_traj, :, :]"
   ]
  },
  {
   "cell_type": "code",
   "execution_count": 3,
   "metadata": {},
   "outputs": [],
   "source": [
    "T = 100\n",
    "nu_dB = 0.0\n",
    "prec_r_dB = -10.0\n",
    "\n",
    "F = torch.tensor([[1.0, 1.0],[0.0, 1.0]])\n",
    "H = torch.eye(2)\n",
    "\n",
    "F_nti = F.unsqueeze(2).repeat(1, 1, T)\n",
    "H_nti = H.unsqueeze(2).repeat(1, 1, T)\n",
    "\n",
    "r, q = pow(10, -prec_r_dB/20), pow(10, (nu_dB-prec_r_dB)/20)\n",
    "\n",
    "Q = q*q*torch.eye(2).unsqueeze(2).repeat(1, 1, T)\n",
    "R = r*r*torch.eye(2).unsqueeze(2).repeat(1, 1, T)\n",
    "\n",
    "\n",
    "\n"
   ]
  },
  {
   "cell_type": "code",
   "execution_count": 4,
   "metadata": {},
   "outputs": [],
   "source": [
    "# fixed initial condition\n",
    "m1x_0 = torch.tensor([1.0, 0.0])\n",
    "m2x_0 = torch.zeros(size=[2, 2])\n",
    "\n",
    "model_ne = System_Model_NE(F, H, T, Q, R)\n",
    "model_ne.init_sequence(m1x_0, m2x_0)\n",
    "\n",
    "kf_ne = KalmanFilter_NE(model_ne)\n",
    "kf_ne.init_sequence(m1x_0, m2x_0)\n",
    "\n",
    "kf_ne.generate_sequence(Y, T)\n",
    "x_kf_ne = kf_ne.x\n",
    "sigma_kf_ne = kf_ne.sigma\n",
    "\n",
    "ks_ne = RTS_Smoother_NE(model_ne)\n",
    "ks_ne.generate_sequence_cross(x_kf_ne, sigma_kf_ne, kf_ne.KG, Q, T)"
   ]
  },
  {
   "cell_type": "code",
   "execution_count": 5,
   "metadata": {},
   "outputs": [],
   "source": [
    "model_nti = System_Model_nti(F_nti, H_nti, T, Q, R)\n",
    "model_nti.init_sequence(m1x_0, m2x_0)\n",
    "\n",
    "kf_nti = KalmanFilter_nti(model_nti)\n",
    "kf_nti.init_sequence(model_nti.m1x_0, model_nti.m2x_0)\n",
    "\n",
    "kf_nti.generate_sequence(Y, T)\n",
    "x_kf_nti = kf_nti.x\n",
    "\n",
    "ks_nti = RTS_Smoother_nti(model_nti)\n",
    "ks_nti.generate_sequence_cross(kf_nti.x, kf_nti.sigma, Q, T, cross_x1x0=True, KG_end=kf_nti.KG)\n"
   ]
  },
  {
   "cell_type": "code",
   "execution_count": 6,
   "metadata": {},
   "outputs": [
    {
     "name": "stdout",
     "output_type": "stream",
     "text": [
      "tensor(-inf)\n"
     ]
    }
   ],
   "source": [
    "loss_func = nn.MSELoss(reduction='mean')\n",
    "mse = 10.0*torch.log(loss_func(ks_ne.s_x, ks_nti.s_x))\n",
    "\n",
    "print(mse)\n"
   ]
  },
  {
   "cell_type": "code",
   "execution_count": 7,
   "metadata": {},
   "outputs": [
    {
     "data": {
      "text/plain": [
       "True"
      ]
     },
     "execution_count": 7,
     "metadata": {},
     "output_type": "execute_result"
    }
   ],
   "source": [
    "torch.equal(ks_ne.sigma_cross, ks_nti.sigma_cross)"
   ]
  },
  {
   "cell_type": "code",
   "execution_count": 8,
   "metadata": {},
   "outputs": [
    {
     "name": "stdout",
     "output_type": "stream",
     "text": [
      "tensor(17.1979)\n"
     ]
    }
   ],
   "source": [
    "x_kf_ref = torch.load('Sim_baseline/KF/X_kf.pt')[0, 0, idx_traj, :, :]\n",
    "mse_ref = 10.0*torch.log(loss_func(x_kf_ref, X))\n",
    "print(mse_ref)"
   ]
  },
  {
   "cell_type": "markdown",
   "metadata": {},
   "source": [
    "# test EM+MA"
   ]
  },
  {
   "cell_type": "code",
   "execution_count": 9,
   "metadata": {},
   "outputs": [],
   "source": [
    "model = SystemModel(F, q, H, r, T, T)\n",
    "model.InitSequence(m1x_0, m2x_0)\n",
    "uv_r = RTS_Simple_NUV(model)\n",
    "uv_r.smooth_unknownQ(Y, 20, 1.0)"
   ]
  },
  {
   "cell_type": "code",
   "execution_count": 10,
   "metadata": {},
   "outputs": [
    {
     "name": "stdout",
     "output_type": "stream",
     "text": [
      "tensor(6.8023)\n"
     ]
    }
   ],
   "source": [
    "mse_nti = loss_func(uv_r.RTS.s_x, X)\n",
    "print(10*torch.log10(mse_nti))"
   ]
  },
  {
   "cell_type": "code",
   "execution_count": 32,
   "metadata": {},
   "outputs": [],
   "source": [
    "uv_r_nti = RTS_UV_nti(model_nti)\n",
    "uv_r_nti.init_KF(m1x_0, m2x_0)\n",
    "uv_r_nti.smooth_unknownQ(Y, 40, 1.0, win=40)\n"
   ]
  },
  {
   "cell_type": "code",
   "execution_count": 33,
   "metadata": {},
   "outputs": [
    {
     "name": "stdout",
     "output_type": "stream",
     "text": [
      "tensor(5.8726)\n"
     ]
    }
   ],
   "source": [
    "mse_nti = loss_func(uv_r_nti.RTS.s_x, X)\n",
    "print(10*torch.log10(mse_nti))"
   ]
  },
  {
   "cell_type": "code",
   "execution_count": 34,
   "metadata": {},
   "outputs": [
    {
     "name": "stdout",
     "output_type": "stream",
     "text": [
      "tensor(5.4453)\n"
     ]
    }
   ],
   "source": [
    "x_ref = torch.load('Sim_const_Q/X_unknownQ.pt')[0,0,idx_traj,:,:]\n",
    "mse_ref = loss_func(x_ref, X)\n",
    "print(10*torch.log10(mse_ref))"
   ]
  }
 ],
 "metadata": {
  "interpreter": {
   "hash": "6542be600deb830c4bce82ce8a12106e8b76a038cf3920d451d7fa959f745ece"
  },
  "kernelspec": {
   "display_name": "Python 3.8.12 ('pytorch_m1')",
   "language": "python",
   "name": "python3"
  },
  "language_info": {
   "codemirror_mode": {
    "name": "ipython",
    "version": 3
   },
   "file_extension": ".py",
   "mimetype": "text/x-python",
   "name": "python",
   "nbconvert_exporter": "python",
   "pygments_lexer": "ipython3",
   "version": "3.8.13"
  },
  "orig_nbformat": 4
 },
 "nbformat": 4,
 "nbformat_minor": 2
}
